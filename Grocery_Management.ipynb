{
 "cells": [
  {
   "cell_type": "code",
   "execution_count": 2,
   "id": "5ef2fac2",
   "metadata": {
    "scrolled": true
   },
   "outputs": [
    {
     "name": "stdout",
     "output_type": "stream",
     "text": [
      "\n",
      "    1.groceryList\n",
      "    2.Add\n",
      "    3.Exit\n",
      "    \n",
      "Enter Your Option1\n",
      "\t 1 . tomato $ 25\n",
      "\t 2 . redmirchi $ 39\n",
      "\t 3 . oil $ 103\n",
      "\t 4 . dal $ 28\n",
      "\t 5 . potato $ 31\n",
      "Invalid input\n",
      "\n",
      "    1.groceryList\n",
      "    2.Add\n",
      "    3.Exit\n",
      "    \n",
      "Enter Your Option2\n",
      "press 'q' Goto Menu\n",
      "Enter Item Nametomato\n",
      "Enter Your Quantity4\n",
      "press 'q' Goto Menu\n",
      "Enter Item Namedal\n",
      "Enter Your Quantity6\n",
      "press 'q' Goto Menu\n",
      "Enter Item Nameq\n",
      "Thank You for Viziting\n",
      "\n",
      "    1.groceryList\n",
      "    2.Add\n",
      "    3.Exit\n",
      "    \n"
     ]
    },
    {
     "ename": "KeyboardInterrupt",
     "evalue": "Interrupted by user",
     "output_type": "error",
     "traceback": [
      "\u001b[1;31m---------------------------------------------------------------------------\u001b[0m",
      "\u001b[1;31mKeyboardInterrupt\u001b[0m                         Traceback (most recent call last)",
      "\u001b[1;32m<ipython-input-2-775dfcf4098f>\u001b[0m in \u001b[0;36m<module>\u001b[1;34m\u001b[0m\n\u001b[0;32m      8\u001b[0m     \u001b[1;36m3.\u001b[0m\u001b[0mExit\u001b[0m\u001b[1;33m\u001b[0m\u001b[1;33m\u001b[0m\u001b[0m\n\u001b[0;32m      9\u001b[0m     ''')\n\u001b[1;32m---> 10\u001b[1;33m     \u001b[0ma\u001b[0m\u001b[1;33m=\u001b[0m\u001b[0mint\u001b[0m\u001b[1;33m(\u001b[0m\u001b[0minput\u001b[0m\u001b[1;33m(\u001b[0m\u001b[1;34m\"Enter Your Option\"\u001b[0m\u001b[1;33m)\u001b[0m\u001b[1;33m)\u001b[0m\u001b[1;33m\u001b[0m\u001b[1;33m\u001b[0m\u001b[0m\n\u001b[0m\u001b[0;32m     11\u001b[0m     \u001b[1;32mif\u001b[0m \u001b[0ma\u001b[0m\u001b[1;33m==\u001b[0m\u001b[1;36m1\u001b[0m\u001b[1;33m:\u001b[0m\u001b[1;33m\u001b[0m\u001b[1;33m\u001b[0m\u001b[0m\n\u001b[0;32m     12\u001b[0m         \u001b[0mdict1\u001b[0m\u001b[1;33m=\u001b[0m\u001b[1;33m{\u001b[0m\u001b[1;34m\"tomato\"\u001b[0m\u001b[1;33m:\u001b[0m\u001b[1;36m25\u001b[0m\u001b[1;33m,\u001b[0m\u001b[1;34m\"redmirchi\"\u001b[0m\u001b[1;33m:\u001b[0m\u001b[1;36m39\u001b[0m\u001b[1;33m,\u001b[0m\u001b[1;34m\"oil\"\u001b[0m\u001b[1;33m:\u001b[0m\u001b[1;36m103\u001b[0m\u001b[1;33m,\u001b[0m\u001b[1;34m\"dal\"\u001b[0m\u001b[1;33m:\u001b[0m\u001b[1;36m28\u001b[0m\u001b[1;33m,\u001b[0m\u001b[1;34m\"potato\"\u001b[0m\u001b[1;33m:\u001b[0m\u001b[1;36m31\u001b[0m\u001b[1;33m}\u001b[0m\u001b[1;33m\u001b[0m\u001b[1;33m\u001b[0m\u001b[0m\n",
      "\u001b[1;32m~\\anaconda3\\lib\\site-packages\\ipykernel\\kernelbase.py\u001b[0m in \u001b[0;36mraw_input\u001b[1;34m(self, prompt)\u001b[0m\n\u001b[0;32m    858\u001b[0m                 \u001b[1;34m\"raw_input was called, but this frontend does not support input requests.\"\u001b[0m\u001b[1;33m\u001b[0m\u001b[1;33m\u001b[0m\u001b[0m\n\u001b[0;32m    859\u001b[0m             )\n\u001b[1;32m--> 860\u001b[1;33m         return self._input_request(str(prompt),\n\u001b[0m\u001b[0;32m    861\u001b[0m             \u001b[0mself\u001b[0m\u001b[1;33m.\u001b[0m\u001b[0m_parent_ident\u001b[0m\u001b[1;33m,\u001b[0m\u001b[1;33m\u001b[0m\u001b[1;33m\u001b[0m\u001b[0m\n\u001b[0;32m    862\u001b[0m             \u001b[0mself\u001b[0m\u001b[1;33m.\u001b[0m\u001b[0m_parent_header\u001b[0m\u001b[1;33m,\u001b[0m\u001b[1;33m\u001b[0m\u001b[1;33m\u001b[0m\u001b[0m\n",
      "\u001b[1;32m~\\anaconda3\\lib\\site-packages\\ipykernel\\kernelbase.py\u001b[0m in \u001b[0;36m_input_request\u001b[1;34m(self, prompt, ident, parent, password)\u001b[0m\n\u001b[0;32m    902\u001b[0m             \u001b[1;32mexcept\u001b[0m \u001b[0mKeyboardInterrupt\u001b[0m\u001b[1;33m:\u001b[0m\u001b[1;33m\u001b[0m\u001b[1;33m\u001b[0m\u001b[0m\n\u001b[0;32m    903\u001b[0m                 \u001b[1;31m# re-raise KeyboardInterrupt, to truncate traceback\u001b[0m\u001b[1;33m\u001b[0m\u001b[1;33m\u001b[0m\u001b[1;33m\u001b[0m\u001b[0m\n\u001b[1;32m--> 904\u001b[1;33m                 \u001b[1;32mraise\u001b[0m \u001b[0mKeyboardInterrupt\u001b[0m\u001b[1;33m(\u001b[0m\u001b[1;34m\"Interrupted by user\"\u001b[0m\u001b[1;33m)\u001b[0m \u001b[1;32mfrom\u001b[0m \u001b[1;32mNone\u001b[0m\u001b[1;33m\u001b[0m\u001b[1;33m\u001b[0m\u001b[0m\n\u001b[0m\u001b[0;32m    905\u001b[0m             \u001b[1;32mexcept\u001b[0m \u001b[0mException\u001b[0m \u001b[1;32mas\u001b[0m \u001b[0me\u001b[0m\u001b[1;33m:\u001b[0m\u001b[1;33m\u001b[0m\u001b[1;33m\u001b[0m\u001b[0m\n\u001b[0;32m    906\u001b[0m                 \u001b[0mself\u001b[0m\u001b[1;33m.\u001b[0m\u001b[0mlog\u001b[0m\u001b[1;33m.\u001b[0m\u001b[0mwarning\u001b[0m\u001b[1;33m(\u001b[0m\u001b[1;34m\"Invalid Message:\"\u001b[0m\u001b[1;33m,\u001b[0m \u001b[0mexc_info\u001b[0m\u001b[1;33m=\u001b[0m\u001b[1;32mTrue\u001b[0m\u001b[1;33m)\u001b[0m\u001b[1;33m\u001b[0m\u001b[1;33m\u001b[0m\u001b[0m\n",
      "\u001b[1;31mKeyboardInterrupt\u001b[0m: Interrupted by user"
     ]
    }
   ],
   "source": [
    "a = True\n",
    "total=0\n",
    "itemPrice=[]\n",
    "while a:\n",
    "    print('''\n",
    "    1.groceryList\n",
    "    2.Add\n",
    "    3.Exit\n",
    "    ''')\n",
    "    a=int(input(\"Enter Your Option\"))\n",
    "    if a==1:\n",
    "        dict1={\"tomato\":25,\"redmirchi\":39,\"oil\":103,\"dal\":28,\"potato\":31}\n",
    "        d=1\n",
    "        for i,j in dict1.items():\n",
    "            print('\\t',d,'.',i,'$',j)\n",
    "            d+=1\n",
    "\n",
    "    if a==2:\n",
    "        q=True\n",
    "        while q:\n",
    "            print(\"press 'q' Goto Menu\")\n",
    "            item=str(input(\"Enter Item Name\")).lower()\n",
    "            if item in dict1.keys():\n",
    "                qnt=input(\"Enter Your Quantity\")\n",
    "                if qnt.isdigit():\n",
    "                    qnt=int(qnt)\n",
    "                    price=float(dict1[item]*qnt)\n",
    "                    itemPrice.append((item,qnt,price))\n",
    "                    total+=price\n",
    "                else:\n",
    "                    print(\"Invalid Quality\")\n",
    "            elif item == 'q':\n",
    "                q=False\n",
    "            else:\n",
    "                print(\"Item is not Available\")\n",
    "\n",
    "        print(\"Thank You for Viziting\")\n",
    "\n",
    "    else:\n",
    "        print(\"Invalid input\")\n"
   ]
  },
  {
   "cell_type": "code",
   "execution_count": 4,
   "id": "66453d9e",
   "metadata": {},
   "outputs": [
    {
     "name": "stdout",
     "output_type": "stream",
     "text": [
      "----------------------------------------------------------------------\n",
      "\n",
      "                          VIRAT SUPER MARKET\n",
      "      \n",
      "----------------------------------------------------------------------\n",
      "Your Total items list and Price\n",
      "--------------------------------------------------\n",
      "Item: tomato \tQuntity: 4 \t Price: 100.0\n",
      "Item: dal \tQuntity: 6 \t Price: 168.0\n",
      "======================================================================\n",
      "Your Payble Amount is: 268.0\n",
      "======================================================================\n"
     ]
    }
   ],
   "source": [
    "print(70*'-')\n",
    "print('''\n",
    "                          VIRAT SUPER MARKET\n",
    "      ''')\n",
    "print(70*'-')\n",
    "print(\"Your Total items list and Price\")\n",
    "print(50*'-')\n",
    "for j in itemPrice:\n",
    "        print('Item:',j[0],'\\tQuntity:',j[1],'\\t Price:',j[2])\n",
    "print(70*'=')\n",
    "print(\"Your Payble Amount is:\",total)\n",
    "print(70*'=')\n"
   ]
  },
  {
   "cell_type": "code",
   "execution_count": null,
   "id": "53f30a0e",
   "metadata": {},
   "outputs": [],
   "source": []
  }
 ],
 "metadata": {
  "kernelspec": {
   "display_name": "Python 3",
   "language": "python",
   "name": "python3"
  },
  "language_info": {
   "codemirror_mode": {
    "name": "ipython",
    "version": 3
   },
   "file_extension": ".py",
   "mimetype": "text/x-python",
   "name": "python",
   "nbconvert_exporter": "python",
   "pygments_lexer": "ipython3",
   "version": "3.8.8"
  }
 },
 "nbformat": 4,
 "nbformat_minor": 5
}
